{
 "cells": [
  {
   "cell_type": "code",
   "execution_count": 1,
   "metadata": {},
   "outputs": [
    {
     "name": "stdout",
     "output_type": "stream",
     "text": [
      "Requirement already satisfied: spacy in /usr/local/python/3.12.1/lib/python3.12/site-packages (3.8.2)\n",
      "Requirement already satisfied: spacy-legacy<3.1.0,>=3.0.11 in /usr/local/python/3.12.1/lib/python3.12/site-packages (from spacy) (3.0.12)\n",
      "Requirement already satisfied: spacy-loggers<2.0.0,>=1.0.0 in /usr/local/python/3.12.1/lib/python3.12/site-packages (from spacy) (1.0.5)\n",
      "Requirement already satisfied: murmurhash<1.1.0,>=0.28.0 in /usr/local/python/3.12.1/lib/python3.12/site-packages (from spacy) (1.0.11)\n",
      "Requirement already satisfied: cymem<2.1.0,>=2.0.2 in /usr/local/python/3.12.1/lib/python3.12/site-packages (from spacy) (2.0.10)\n",
      "Requirement already satisfied: preshed<3.1.0,>=3.0.2 in /usr/local/python/3.12.1/lib/python3.12/site-packages (from spacy) (3.0.9)\n",
      "Requirement already satisfied: thinc<8.4.0,>=8.3.0 in /usr/local/python/3.12.1/lib/python3.12/site-packages (from spacy) (8.3.2)\n",
      "Requirement already satisfied: wasabi<1.2.0,>=0.9.1 in /usr/local/python/3.12.1/lib/python3.12/site-packages (from spacy) (1.1.3)\n",
      "Requirement already satisfied: srsly<3.0.0,>=2.4.3 in /usr/local/python/3.12.1/lib/python3.12/site-packages (from spacy) (2.4.8)\n",
      "Requirement already satisfied: catalogue<2.1.0,>=2.0.6 in /usr/local/python/3.12.1/lib/python3.12/site-packages (from spacy) (2.0.10)\n",
      "Requirement already satisfied: weasel<0.5.0,>=0.1.0 in /usr/local/python/3.12.1/lib/python3.12/site-packages (from spacy) (0.4.1)\n",
      "Requirement already satisfied: typer<1.0.0,>=0.3.0 in /usr/local/python/3.12.1/lib/python3.12/site-packages (from spacy) (0.15.1)\n",
      "Requirement already satisfied: tqdm<5.0.0,>=4.38.0 in /usr/local/python/3.12.1/lib/python3.12/site-packages (from spacy) (4.67.1)\n",
      "Requirement already satisfied: requests<3.0.0,>=2.13.0 in /home/codespace/.local/lib/python3.12/site-packages (from spacy) (2.32.3)\n",
      "Requirement already satisfied: pydantic!=1.8,!=1.8.1,<3.0.0,>=1.7.4 in /usr/local/python/3.12.1/lib/python3.12/site-packages (from spacy) (2.10.3)\n",
      "Requirement already satisfied: jinja2 in /home/codespace/.local/lib/python3.12/site-packages (from spacy) (3.1.4)\n",
      "Requirement already satisfied: setuptools in /home/codespace/.local/lib/python3.12/site-packages (from spacy) (75.1.0)\n",
      "Requirement already satisfied: packaging>=20.0 in /home/codespace/.local/lib/python3.12/site-packages (from spacy) (24.1)\n",
      "Requirement already satisfied: langcodes<4.0.0,>=3.2.0 in /usr/local/python/3.12.1/lib/python3.12/site-packages (from spacy) (3.5.0)\n",
      "Requirement already satisfied: numpy>=1.19.0 in /usr/local/python/3.12.1/lib/python3.12/site-packages (from spacy) (2.0.2)\n",
      "Requirement already satisfied: language-data>=1.2 in /usr/local/python/3.12.1/lib/python3.12/site-packages (from langcodes<4.0.0,>=3.2.0->spacy) (1.3.0)\n",
      "Requirement already satisfied: annotated-types>=0.6.0 in /usr/local/python/3.12.1/lib/python3.12/site-packages (from pydantic!=1.8,!=1.8.1,<3.0.0,>=1.7.4->spacy) (0.7.0)\n",
      "Requirement already satisfied: pydantic-core==2.27.1 in /usr/local/python/3.12.1/lib/python3.12/site-packages (from pydantic!=1.8,!=1.8.1,<3.0.0,>=1.7.4->spacy) (2.27.1)\n",
      "Requirement already satisfied: typing-extensions>=4.12.2 in /usr/local/python/3.12.1/lib/python3.12/site-packages (from pydantic!=1.8,!=1.8.1,<3.0.0,>=1.7.4->spacy) (4.12.2)\n",
      "Requirement already satisfied: charset-normalizer<4,>=2 in /home/codespace/.local/lib/python3.12/site-packages (from requests<3.0.0,>=2.13.0->spacy) (3.3.2)\n",
      "Requirement already satisfied: idna<4,>=2.5 in /home/codespace/.local/lib/python3.12/site-packages (from requests<3.0.0,>=2.13.0->spacy) (3.10)\n",
      "Requirement already satisfied: urllib3<3,>=1.21.1 in /home/codespace/.local/lib/python3.12/site-packages (from requests<3.0.0,>=2.13.0->spacy) (2.2.3)\n",
      "Requirement already satisfied: certifi>=2017.4.17 in /home/codespace/.local/lib/python3.12/site-packages (from requests<3.0.0,>=2.13.0->spacy) (2024.8.30)\n",
      "Requirement already satisfied: blis<1.1.0,>=1.0.0 in /usr/local/python/3.12.1/lib/python3.12/site-packages (from thinc<8.4.0,>=8.3.0->spacy) (1.0.1)\n",
      "Requirement already satisfied: confection<1.0.0,>=0.0.1 in /usr/local/python/3.12.1/lib/python3.12/site-packages (from thinc<8.4.0,>=8.3.0->spacy) (0.1.5)\n",
      "Requirement already satisfied: click>=8.0.0 in /usr/local/python/3.12.1/lib/python3.12/site-packages (from typer<1.0.0,>=0.3.0->spacy) (8.1.7)\n",
      "Requirement already satisfied: shellingham>=1.3.0 in /usr/local/python/3.12.1/lib/python3.12/site-packages (from typer<1.0.0,>=0.3.0->spacy) (1.5.4)\n",
      "Requirement already satisfied: rich>=10.11.0 in /usr/local/python/3.12.1/lib/python3.12/site-packages (from typer<1.0.0,>=0.3.0->spacy) (13.9.4)\n",
      "Requirement already satisfied: cloudpathlib<1.0.0,>=0.7.0 in /usr/local/python/3.12.1/lib/python3.12/site-packages (from weasel<0.5.0,>=0.1.0->spacy) (0.20.0)\n",
      "Requirement already satisfied: smart-open<8.0.0,>=5.2.1 in /usr/local/python/3.12.1/lib/python3.12/site-packages (from weasel<0.5.0,>=0.1.0->spacy) (7.0.5)\n",
      "Requirement already satisfied: MarkupSafe>=2.0 in /home/codespace/.local/lib/python3.12/site-packages (from jinja2->spacy) (2.1.5)\n",
      "Requirement already satisfied: marisa-trie>=1.1.0 in /usr/local/python/3.12.1/lib/python3.12/site-packages (from language-data>=1.2->langcodes<4.0.0,>=3.2.0->spacy) (1.2.1)\n",
      "Requirement already satisfied: markdown-it-py>=2.2.0 in /usr/local/python/3.12.1/lib/python3.12/site-packages (from rich>=10.11.0->typer<1.0.0,>=0.3.0->spacy) (3.0.0)\n",
      "Requirement already satisfied: pygments<3.0.0,>=2.13.0 in /home/codespace/.local/lib/python3.12/site-packages (from rich>=10.11.0->typer<1.0.0,>=0.3.0->spacy) (2.18.0)\n",
      "Requirement already satisfied: wrapt in /usr/local/python/3.12.1/lib/python3.12/site-packages (from smart-open<8.0.0,>=5.2.1->weasel<0.5.0,>=0.1.0->spacy) (1.17.0)\n",
      "Requirement already satisfied: mdurl~=0.1 in /usr/local/python/3.12.1/lib/python3.12/site-packages (from markdown-it-py>=2.2.0->rich>=10.11.0->typer<1.0.0,>=0.3.0->spacy) (0.1.2)\n",
      "Note: you may need to restart the kernel to use updated packages.\n"
     ]
    }
   ],
   "source": [
    "pip install spacy"
   ]
  },
  {
   "cell_type": "markdown",
   "metadata": {},
   "source": [
    "### The doc object for Processed Text"
   ]
  },
  {
   "cell_type": "code",
   "execution_count": 2,
   "metadata": {},
   "outputs": [],
   "source": [
    "import spacy"
   ]
  },
  {
   "cell_type": "code",
   "execution_count": 3,
   "metadata": {},
   "outputs": [
    {
     "data": {
      "text/plain": [
       "<spacy.lang.en.English at 0x7c6e2b3a8590>"
      ]
     },
     "execution_count": 3,
     "metadata": {},
     "output_type": "execute_result"
    }
   ],
   "source": [
    "nlp = spacy.load(\"en_core_web_sm\")\n",
    "nlp"
   ]
  },
  {
   "cell_type": "code",
   "execution_count": 4,
   "metadata": {},
   "outputs": [
    {
     "data": {
      "text/plain": [
       "spacy.tokens.doc.Doc"
      ]
     },
     "execution_count": 4,
     "metadata": {},
     "output_type": "execute_result"
    }
   ],
   "source": [
    "introduction_doc = nlp(\"This tutorial is about Natural Language Processing in English\")\n",
    "type(introduction_doc)"
   ]
  },
  {
   "cell_type": "code",
   "execution_count": 5,
   "metadata": {},
   "outputs": [
    {
     "data": {
      "text/plain": [
       "['This',\n",
       " 'tutorial',\n",
       " 'is',\n",
       " 'about',\n",
       " 'Natural',\n",
       " 'Language',\n",
       " 'Processing',\n",
       " 'in',\n",
       " 'English']"
      ]
     },
     "execution_count": 5,
     "metadata": {},
     "output_type": "execute_result"
    }
   ],
   "source": [
    "[token.text for token in introduction_doc]"
   ]
  },
  {
   "cell_type": "code",
   "execution_count": 7,
   "metadata": {},
   "outputs": [
    {
     "name": "stdout",
     "output_type": "stream",
     "text": [
      "['THE', 'VANISHING', 'GLASS', '\\n', 'N', 'early', 'ten', 'years', 'had', 'passed', 'since', 'the', 'Dursleys', 'had', 'woken', 'up', 'to', 'find', 'their', '\\n', 'nephew', 'on', 'the', 'front', 'step', ',', 'but', 'Privet', 'Drive', 'had', 'hardly', 'changed', 'at', 'all', '.', 'The', 'sun', '\\n', 'rose', 'on', 'the', 'same', 'tidy', 'front', 'gardens', 'and', 'lit', 'up', 'the', 'brass', 'number', 'four', 'on', 'the', '\\n', 'Dursleys', '’', 'front', 'door', ';', 'it', 'crept', 'into', 'their', 'living', 'room', ',', 'which', 'was', 'almost', 'exactly', '\\n', 'the', 'same', 'as', 'it', 'had', 'been', 'on', 'the', 'night', 'when', 'Mr.', 'Dursley', 'had', 'seen', 'that', 'fateful', 'news', '\\n', 'report', 'about', 'the', 'owls', '.', 'Only', 'the', 'photographs', 'on', 'the', 'mantelpiece', 'really', 'showed', '\\n', 'how', 'much', 'time', 'had', 'passed', '.', 'Ten', 'years', 'ago', ',', 'there', 'had', 'been', 'lots', 'of', 'pictures', 'of', '\\n', 'what', 'looked', 'like', 'a', 'large', 'pink', 'beach', 'ball', 'wearing', 'different', '-', 'colored', 'bonnets', '—', '\\n', 'but', 'Dudley', 'Dursley', 'was', 'no', 'longer', 'a', 'baby', ',', 'and', 'now', 'the', 'photographs', 'showed', 'a', '\\n', 'large', 'blond', 'boy', 'riding', 'his', 'first', 'bicycle', ',', 'on', 'a', 'carousel', 'at', 'the', 'fair', ',', 'playing', 'a', '\\n', 'computer', 'game', 'with', 'his', 'father', ',', 'being', 'hugged', 'and', 'kissed', 'by', 'his', 'mother', '.', 'The', '\\n', 'room', 'held', 'no', 'sign', 'at', 'all', 'that', 'another', 'boy', 'lived', 'in', 'the', 'house', ',', 'too', '.', '\\n', 'Yet', 'Harry', 'Potter', 'was', 'still', 'there', ',', 'asleep', 'at', 'the', 'moment', ',', 'but', 'not', 'for', 'long', '.', '\\n', 'His', 'Aunt', 'Petunia', 'was', 'awake', 'and', 'it', 'was', 'her', 'shrill', 'voice', 'that', 'made', 'the', 'first', 'noise', '\\n', 'of', 'the', 'day', '.', '\\n', '“', 'Up', '!', 'Get', 'up', '!', 'Now', '!', '”', '\\n', 'Harry', 'woke', 'with', 'a', 'start', '.', 'His', 'aunt', 'rapped', 'on', 'the', 'door', 'again', '.', '\\n', '“', 'Up', '!', '”', 'she', 'screeched', '.', 'Harry', 'heard', 'her', 'walking', 'toward', 'the', 'kitchen', 'and', '\\n', 'then', 'the', 'sound', 'of', 'the', 'frying', 'pan', 'being', 'put', 'on', 'the', 'stove', '.', 'He', 'rolled', 'onto', 'his', 'back', '\\n', 'and', 'tried', 'to', 'remember', 'the', 'dream', 'he', 'had', 'been', 'having', '.', 'It', 'had', 'been', 'a', 'good', 'one', '.', '\\n', 'There', 'had', 'been', 'a', 'flying', 'motorcycle', 'in', 'it', '.', 'He', 'had', 'a', 'funny', 'feeling', 'he', '’d', 'had', 'the', '\\n', 'same', 'dream', 'before', '.', '\\n', 'His', 'aunt', 'was', 'back', 'outside', 'the', 'door', '.', '\\n', '“', 'Are', 'you', 'up', 'yet', '?', '”', 'she', 'demanded', '.', '\\n', '“', 'Nearly', ',', '”', 'said', 'Harry', '.', '\\n', '“', 'Well', ',', 'get', 'a', 'move', 'on', ',', 'I', 'want', 'you', 'to', 'look', 'after', 'the', 'bacon', '.', 'And', 'do', 'n’t', 'you', '\\n', 'dare', 'let', 'it', 'burn', ',', 'I', 'want', 'everything', 'perfect', 'on', 'Duddy', '’s', 'birthday', '.', '”', '\\n', 'Harry', 'groaned', '.', '\\n', '“', 'What', 'did', 'you', 'say', '?', '”', 'his', 'aunt', 'snapped', 'through', 'the', 'door', '.', '\\n', '“', 'Nothing', ',', 'nothing', '…', '”', '\\n', 'Dudley', '’s', 'birthday', '—', 'how', 'could', 'he', 'have', 'forgotten', '?', 'Harry', 'got', 'slowly', 'out', '\\n', 'of', 'bed', 'and', 'started', 'looking', 'for', 'socks', '.', 'He', 'found', 'a', 'pair', 'under', 'his', 'bed', 'and', ',', 'after', '\\n', 'pulling', 'a', 'spider', 'off', 'one', 'of', 'them', ',', 'put', 'them', 'on', '.', 'Harry', 'was', 'used', 'to', 'spiders', ',', 'because', '\\n', 'the', 'cupboard', 'under', 'the', 'stairs', 'was', 'full', 'of', 'them', ',', 'and', 'that', 'was', 'where', 'he', 'slept', '.', '\\n', 'When', 'he', 'was', 'dressed', 'he', 'went', 'down', 'the', 'hall', 'into', 'the', 'kitchen', '.', 'The', 'table', '\\n', 'was', 'almost', 'hidden', 'beneath', 'all', 'Dudley', '’s', 'birthday', 'presents', '.', 'It', 'looked', 'as', 'though', '\\n', 'Dudley', 'had', 'gotten', 'the', 'new', 'computer', 'he', 'wanted', ',', 'not', 'to', 'mention', 'the', 'second', '\\n', 'television', 'and', 'the', 'racing', 'bike', '.', 'Exactly', 'why', 'Dudley', 'wanted', 'a', 'racing', 'bike', 'was', 'a', '\\n', 'mystery', 'to', 'Harry', ',', 'as', 'Dudley', 'was', 'very', 'fat', 'and', 'hated', 'exercise', '—', 'unless', 'of', 'course', '\\n', 'it', 'involved', 'punching', 'somebody', '.', 'Dudley', '’s', 'favorite', 'punching', 'bag', 'was', 'Harry', ',', 'but', '\\n', 'he', 'could', 'n’t', 'often', 'catch', 'him', '.', 'Harry', 'did', 'n’t', 'look', 'it', ',', 'but', 'he', 'was', 'very', 'fast', '.', '\\n', 'Perhaps', 'it', 'had', 'something', 'to', 'do', 'with', 'living', 'in', 'a', 'dark', 'cupboard', ',', 'but', 'Harry', '\\n', 'had', 'always', 'been', 'small', 'and', 'skinny', 'for', 'his', 'age', '.', 'He', 'looked', 'even', 'smaller', 'and', '\\n', 'skinnier', 'than', 'he', 'really', 'was', 'because', 'all', 'he', 'had', 'to', 'wear', 'were', 'old', 'clothes', 'of', '\\n', 'Dudley', '’s', ',', 'and', 'Dudley', 'was', 'about', 'four', 'times', 'bigger', 'than', 'he', 'was', '.', 'Harry', 'had', 'a', 'thin', '\\n', 'face', ',', 'knobbly', 'knees', ',', 'black', 'hair', ',', 'and', 'bright', 'green', 'eyes', '.', 'He', 'wore', 'round', 'glasses', '\\n', 'held', 'together', 'with', 'a', 'lot', 'of', 'Scotch', 'tape', 'because', 'of', 'all', 'the', 'times', 'Dudley', 'had', '\\n', 'punched', 'him', 'on', 'the', 'nose', '.', 'The', 'only', 'thing', 'Harry', 'liked', 'about', 'his', 'own', 'appearance', '\\n', 'was', 'a', 'very', 'thin', 'scar', 'on', 'his', 'forehead', 'that', 'was', 'shaped', 'like', 'a', 'bolt', 'of', 'lightning', '.', 'He', '\\n', 'had', 'had', 'it', 'as', 'long', 'as', 'he', 'could', 'remember', ',', 'and', 'the', 'first', 'question', 'he', 'could', 'ever', '\\n', 'remember', 'asking', 'his', 'Aunt', 'Petunia', 'was', 'how', 'he', 'had', 'gotten', 'it', '.', '\\n', '“', 'In', 'the', 'car', 'crash', 'when', 'your', 'parents', 'died', ',', '”', 'she', 'had', 'said', '.', '“', 'And', 'do', 'n’t', 'ask', '\\n', 'questions', '.', '”', '\\n', 'Do', 'n’t', 'ask', 'questions', '—', 'that', 'was', 'the', 'first', 'rule', 'for', 'a', 'quiet', 'life', 'with', 'the', '\\n', 'Dursleys', '.', '\\n', 'Uncle', 'Vernon', 'entered', 'the', 'kitchen', 'as', 'Harry', 'was', 'turning', 'over', 'the', 'bacon', '.', '\\n', '“', 'Comb', 'your', 'hair', '!', '”', 'he', 'barked', ',', 'by', 'way', 'of', 'a', 'morning', 'greeting', '.', '\\n', 'About', 'once', 'a', 'week', ',', 'Uncle', 'Vernon', 'looked', 'over', 'the', 'top', 'of', 'his', 'newspaper', '\\n', 'and', 'shouted', 'that', 'Harry', 'needed', 'a', 'haircut', '.', 'Harry', 'must', 'have', 'had', 'more', 'haircuts', 'than', '\\n', 'the', 'rest', 'of', 'the', 'boys', 'in', 'his', 'class', 'put', 'together', ',', 'but', 'it', 'made', 'no', 'difference', ',', 'his', 'hair', '\\n', 'simply', 'grew', 'that', 'way', '—', 'all', 'over', 'the', 'place', '.', '\\n', 'Harry', 'was', 'frying', 'eggs', 'by', 'the', 'time', 'Dudley', 'arrived', 'in', 'the', 'kitchen', 'with', 'his', '\\n', 'mother', '.', 'Dudley', 'looked', 'a', 'lot', 'like', 'Uncle', 'Vernon', '.', 'He', 'had', 'a', 'large', 'pink', 'face', ',', 'not', '\\n', 'much', 'neck', ',', 'small', ',', 'watery', 'blue', 'eyes', ',', 'and', 'thick', 'blond', 'hair', 'that', 'lay', 'smoothly', 'on', '\\n', 'his', 'thick', ',', 'fat', 'head', '.', 'Aunt', 'Petunia', 'often', 'said', 'that', 'Dudley', 'looked', 'like', 'a', 'baby', 'angel', '\\n', '—', 'Harry', 'often', 'said', 'that', 'Dudley', 'looked', 'like', 'a', 'pig', 'in', 'a', 'wig', '.', '\\n', 'Harry', 'put', 'the', 'plates', 'of', 'egg', 'and', 'bacon', 'on', 'the', 'table', ',', 'which', 'was', 'difficult', 'as', '\\n', 'there', 'was', 'n’t', 'much', 'room', '.', 'Dudley', ',', 'meanwhile', ',', 'was', 'counting', 'his', 'presents', '.', 'His', '\\n', 'face', 'fell', '.', '\\n', '“', 'Thirty', '-', 'six', ',', '”', 'he', 'said', ',', 'looking', 'up', 'at', 'his', 'mother', 'and', 'father', '.', '“', 'That', '’s', 'two', '\\n', 'less', 'than', 'last', 'year', '.', '”', '\\n', '“', 'Darling', ',', 'you', 'have', 'n’t', 'counted', 'Auntie', 'Marge', '’s', 'present', ',', 'see', ',', 'it', '’s', 'here', '\\n', 'under', 'this', 'big', 'one', 'from', 'Mummy', 'and', 'Daddy', '.', '”', '\\n', '“', 'All', 'right', ',', 'thirty', '-', 'seven', 'then', ',', '”', 'said', 'Dudley', ',', 'going', 'red', 'in', 'the', 'face', '.', 'Harry', ',', '\\n', 'who', 'could', 'see', 'a', 'huge', 'Dudley', 'tantrum', 'coming', 'on', ',', 'began', 'wolfing', 'down', 'his', 'bacon', '\\n', 'as', 'fast', 'as', 'possible', 'in', 'case', 'Dudley', 'turned', 'the', 'table', 'over', '.', '\\n', 'Aunt', 'Petunia', 'obviously', 'scented', 'danger', ',', 'too', ',', 'because', 'she', 'said', 'quickly', ',', '\\n', '“', 'And', 'we', '’ll', 'buy', 'you', 'another', 'two', 'presents', 'while', 'we', '’re', 'out', 'today', '.', 'How', '’s', 'that', ',', '\\n', 'popkin', '?', 'Two', 'more', 'presents', '.', 'Is', 'that', 'all', 'right', '”', '\\n', 'Dudley', 'thought', 'for', 'a', 'moment', '.', 'It', 'looked', 'like', 'hard', 'work', '.', 'Finally', 'he', 'said', '\\n', 'slowly', ',', '“', 'So', 'I', '’ll', 'have', 'thirty', '...', 'thirty', '...', '”', '\\n', '“', 'Thirty', '-', 'nine', ',', 'sweetums', ',', '”', 'said', 'Aunt', 'Petunia', '.', '\\n', '“', 'Oh', '.', '”', 'Dudley', 'sat', 'down', 'heavily', 'and', 'grabbed', 'the', 'nearest', 'parcel', '.', '“', 'All', 'right', '\\n', 'then', '.', '”', '\\n', 'Uncle', 'Vernon', 'chuckled', '.', '\\n', '“', 'Little', 'tyke', 'wants', 'his', 'money', '’s', 'worth', ',', 'just', 'like', 'his', 'father', '.', '’', 'Atta', 'boy', ',', '\\n', 'Dudley', '!', '”', 'He', 'ruffled', 'Dudley', '’s', 'hair', '.', '\\n', 'At', 'that', 'moment', 'the', 'telephone', 'rang', 'and', 'Aunt', 'Petunia', 'went', 'to', 'answer', 'it', '\\n', 'while', 'Harry', 'and', 'Uncle', 'Vernon', 'watched', 'Dudley', 'unwrap', 'the', 'racing', 'bike', ',', 'a', 'video', '\\n', 'camera', ',', 'a', 'remote', 'control', 'airplane', ',', 'sixteen', 'new', 'computer', 'games', ',', 'and', 'a', 'VCR', '.', 'He', '\\n', 'was', 'ripping', 'the', 'paper', 'off', 'a', 'gold', 'wristwatch', 'when', 'Aunt', 'Petunia', 'came', 'back', 'from', '\\n', 'the', 'telephone', 'looking', 'both', 'angry', 'and', 'worried', '.', '\\n', '“', 'Bad', 'news', ',', 'Vernon', ',', '”', 'she', 'said', '.', '“', 'Mrs.', 'Figg', '’s', 'broken', 'her', 'leg', '.', 'She', 'ca', 'n’t', '\\n', 'take', 'him', '.', '”', 'She', 'jerked', 'her', 'head', 'in', 'Harry', '’s', 'direction', '.', '\\n', 'Dudley', '’s', 'mouth', 'fell', 'open', 'in', 'horror', ',', 'but', 'Harry', '’s', 'heart', 'gave', 'a', 'leap', '.', 'Every', '\\n', 'year', 'on', 'Dudley', '’s', 'birthday', ',', 'his', 'parents', 'took', 'him', 'and', 'a', 'friend', 'out', 'for', 'the', 'day', ',', 'to', '\\n', 'adventure', 'parks', ',', 'hamburger', 'restaurants', ',', 'or', 'the', 'movies', '.', 'Every', 'year', ',', 'Harry', 'was', '\\n', 'left', 'behind', 'with', 'Mrs.', 'Figg', ',', 'a', 'mad', 'old', 'lady', 'who', 'lived', 'two', 'streets', 'away', '.', 'Harry', '\\n', 'hated', 'it', 'there', '.', 'The', 'whole', 'house', 'smelled', 'of', 'cabbage', 'and', 'Mrs.', 'Figg', 'made', 'him', '\\n', 'look', 'at', 'photographs', 'of', 'all', 'the', 'cats', 'she', '’d', 'ever', 'owned', '.', '\\n', '“', 'Now', 'what', '?', '”', 'said', 'Aunt', 'Petunia', ',', 'looking', 'furiously', 'at', 'Harry', 'as', 'though', '\\n', 'he', '’d', 'planned', 'this', '.', 'Harry', 'knew', 'he', 'ought', 'to', 'feel', 'sorry', 'that', 'Mrs.', 'Figg', 'had', 'broken', '\\n', 'her', 'leg', ',', 'but', 'it', 'was', 'n’t', 'easy', 'when', 'he', 'reminded', 'himself', 'it', 'would', 'be', 'a', 'whole', 'year', '\\n', 'before', 'he', 'had', 'to', 'look', 'at', 'Tibbles', ',', 'Snowy', ',', 'Mr.', 'Paws', ',', 'and', 'Tufty', 'again', '.', '\\n', '“', 'We', 'could', 'phone', 'Marge', ',', '”', 'Uncle', 'Vernon', 'suggested', '.', '\\n', '“', 'Do', 'n’t', 'be', 'silly', ',', 'Vernon', ',', 'she', 'hates', 'the', 'boy', '.', '”', '\\n', 'The', 'Dursleys', 'often', 'spoke', 'about', 'Harry', 'like', 'this', ',', 'as', 'though', 'he', 'was', 'n’t', 'there', '\\n', '—', 'or', 'rather', ',', 'as', 'though', 'he', 'was', 'something', 'very', 'nasty', 'that', 'could', 'n’t', 'understand', '\\n', 'them', ',', 'like', 'a', 'slug', '.', '\\n', '“', 'What', 'about', 'what’s', '-', 'her', '-', 'name', ',', 'your', 'friend', '—', 'Yvonne', '?', '”', '\\n', '“', 'On', 'vacation', 'in', 'Majorca', ',', '”', 'snapped', 'Aunt', 'Petunia', '.', '\\n', '“', 'You', 'could', 'just', 'leave', 'me', 'here', ',', '”', 'Harry', 'put', 'in', 'hopefully', '(', 'he', '’d', 'be', 'able', 'to', '\\n', 'watch', 'what', 'he', 'wanted', 'on', 'television', 'for', 'a', 'change', 'and', 'maybe', 'even', 'have', 'a', 'go', 'on', '\\n', 'Dudley', '’s', 'computer', ')', '.', '\\n', 'Aunt', 'Petunia', 'looked', 'as', 'though', 'she', '’d', 'just', 'swallowed', 'a', 'lemon', '.', '\\n', '“', 'And', 'come', 'back', 'and', 'find', 'the', 'house', 'in', 'ruins', '?', '”', 'she', 'snarled', '.', '\\n', '“', 'I', 'wo', 'n’t', 'blow', 'up', 'the', 'house', ',', '”', 'said', 'Harry', ',', 'but', 'they', 'were', 'n’t', 'listening', '.', '\\n', '“', 'I', 'suppose', 'we', 'could', 'take', 'him', 'to', 'the', 'zoo', ',', '”', 'said', 'Aunt', 'Petunia', 'slowly', ',', '“', '…', '\\n', 'and', 'leave', 'him', 'in', 'the', 'car', '.', '…', '”', '\\n', '“', 'That', 'car', '’s', 'new', ',', 'he', '’s', 'not', 'sitting', 'in', 'it', 'alone', '.', '…', '”', '\\n', 'Dudley', 'began', 'to', 'cry', 'loudly', '.', 'In', 'fact', ',', 'he', 'was', 'n’t', 'really', 'crying', '—', 'it', 'had', '\\n', 'been', 'years', 'since', 'he', '’d', 'really', 'cried', '—', 'but', 'he', 'knew', 'that', 'if', 'he', 'screwed', 'up', 'his', 'face', '\\n', 'and', 'wailed', ',', 'his', 'mother', 'would', 'give', 'him', 'anything', 'he', 'wanted', '.', '\\n', '“', 'Dinky', 'Duddydums', ',', 'do', 'n’t', 'cry', ',', 'Mummy', 'wo', 'n’t', 'let', 'him', 'spoil', 'your', 'special', '\\n', 'day', '!', '”', 'she', 'cried', ',', 'flinging', 'her', 'arms', 'around', 'him', '.', '\\n', '“', 'I', '…', 'don’t', '…', 'want', '…', 'him', '…', 't', '-', 't', '-', 'to', 'come', '!', '”', 'Dudley', 'yelled', 'between', 'huge', ',', '\\n', 'pretend', 'sobs', '.', '“', 'He', 'always', 'sp', '-', 'spoils', 'everything', '!', '”', 'He', 'shot', 'Harry', 'a', 'nasty', 'grin', '\\n', 'through', 'the', 'gap', 'in', 'his', 'mother', '’s', 'arms', '.', '\\n', 'Just', 'then', ',', 'the', 'doorbell', 'rang', '—', '“', 'Oh', ',', 'good', 'Lord', ',', 'they', '’re', 'here', '!', '”', 'said', 'Aunt', '\\n', 'Petunia', 'frantically', '—', 'and', 'a', 'moment', 'later', ',', 'Dudley', '’s', 'best', 'friend', ',', 'Piers', 'Polkiss', ',', '\\n', 'walked', 'in', 'with', 'his', 'mother', '.', 'Piers', 'was', 'a', 'scrawny', 'boy', 'with', 'a', 'face', 'like', 'a', 'rat', '.', 'He', '\\n', 'was', 'usually', 'the', 'one', 'who', 'held', 'people', '’s', 'arms', 'behind', 'their', 'backs', 'while', 'Dudley', 'hit', '\\n', 'them', '.', 'Dudley', 'stopped', 'pretending', 'to', 'cry', 'at', 'once', '.', '\\n', 'Half', 'an', 'hour', 'later', ',', 'Harry', ',', 'who', 'could', 'n’t', 'believe', 'his', 'luck', ',', 'was', 'sitting', 'in', 'the', '\\n', 'back', 'of', 'the', 'Dursleys', '’', 'car', 'with', 'Piers', 'and', 'Dudley', ',', 'on', 'the', 'way', 'to', 'the', 'zoo', 'for', 'the', '\\n', 'first', 'time', 'in', 'his', 'life', '.', 'His', 'aunt', 'and', 'uncle', 'had', 'n’t', 'been', 'able', 'to', 'think', 'of', 'anything', 'else', '\\n', 'to', 'do', 'with', 'him', ',', 'but', 'before', 'they', '’d', 'left', ',', 'Uncle', 'Vernon', 'had', 'taken', 'Harry', 'aside', '.', '\\n', '“', 'I', '’m', 'warning', 'you', ',', '”', 'he', 'had', 'said', ',', 'putting', 'his', 'large', 'purple', 'face', 'right', 'up', '\\n', 'close', 'to', 'Harry', '’s', ',', '“', 'I', '’m', 'warning', 'you', 'now', ',', 'boy', '—', 'any', 'funny', 'business', ',', 'anything', 'at', '\\n', 'all', '—', 'and', 'you', '’ll', 'be', 'in', 'that', 'cupboard', 'from', 'now', 'until', 'Christmas', '.', '”', '\\n', '“', 'I', '’m', 'not', 'going', 'to', 'do', 'anything', ',', '”', 'said', 'Harry', ',', '“', 'honestly', '…', '”', '\\n', 'But', 'Uncle', 'Vernon', 'did', 'n’t', 'believe', 'him', '.', 'No', 'one', 'ever', 'did', '.', '\\n', 'The', 'problem', 'was', ',', 'strange', 'things', 'often', 'happened', 'around', 'Harry', 'and', 'it', 'was', '\\n', 'just', 'no', 'good', 'telling', 'the', 'Dursleys', 'he', 'did', 'n’t', 'make', 'them', 'happen', '.', '\\n', 'Once', ',', 'Aunt', 'Petunia', ',', 'tired', 'of', 'Harry', 'coming', 'back', 'from', 'the', 'barbers', 'looking', '\\n', 'as', 'though', 'he', 'had', 'n’t', 'been', 'at', 'all', ',', 'had', 'taken', 'a', 'pair', 'of', 'kitchen', 'scissors', 'and', 'cut', 'his', '\\n', 'hair', 'so', 'short', 'he', 'was', 'almost', 'bald', 'except', 'for', 'his', 'bangs', ',', 'which', 'she', 'left', '“', 'to', 'hide', 'that', '\\n', 'horrible', 'scar', '.', '”', 'Dudley', 'had', 'laughed', 'himself', 'silly', 'at', 'Harry', ',', 'who', 'spent', 'a', 'sleepless', '\\n', 'night', 'imagining', 'school', 'the', 'next', 'day', ',', 'where', 'he', 'was', 'already', 'laughed', 'at', 'for', 'his', '\\n', 'baggy', 'clothes', 'and', 'taped', 'glasses', '.', 'Next', 'morning', ',', 'however', ',', 'he', 'had', 'gotten', 'up', 'to', '\\n', 'find', 'his', 'hair', 'exactly', 'as', 'it', 'had', 'been', 'before', 'Aunt', 'Petunia', 'had', 'sheared', 'it', 'off', 'He', 'had', '\\n', 'been', 'given', 'a', 'week', 'in', 'his', 'cupboard', 'for', 'this', ',', 'even', 'though', 'he', 'had', 'tried', 'to', 'explain', '\\n', 'that', 'he', 'could', 'n’t', 'explain', 'how', 'it', 'had', 'grown', 'back', 'so', 'quickly', '.', '\\n', 'Another', 'time', ',', 'Aunt', 'Petunia', 'had', 'been', 'trying', 'to', 'force', 'him', 'into', 'a', 'revolting', '\\n', 'old', 'sweater', 'of', 'Dudley', '’s', '(', 'brown', 'with', 'orange', 'puff', 'balls', ')', '.', 'The', 'harder', 'she', 'tried', 'to', '\\n', 'pull', 'it', 'over', 'his', 'head', ',', 'the', 'smaller', 'it', 'seemed', 'to', 'become', ',', 'until', 'finally', 'it', 'might', 'have', '\\n', 'fitted', 'a', 'hand', 'puppet', ',', 'but', 'certainly', 'would', 'n’t', 'fit', 'Harry', '.', 'Aunt', 'Petunia', 'had', 'decided', '\\n', 'it', 'must', 'have', 'shrunk', 'in', 'the', 'wash', 'and', ',', 'to', 'his', 'great', 'relief', ',', 'Harry', 'was', 'n’t', 'punished', '.', '\\n', 'On', 'the', 'other', 'hand', ',', 'he', '’d', 'gotten', 'into', 'terrible', 'trouble', 'for', 'being', 'found', 'on', 'the', '\\n', 'roof', 'of', 'the', 'school', 'kitchens', '.', 'Dudley', '’s', 'gang', 'had', 'been', 'chasing', 'him', 'as', 'usual', 'when', ',', '\\n', 'as', 'much', 'to', 'Harry', '’s', 'surprise', 'as', 'anyone', 'else', '’s', ',', 'there', 'he', 'was', 'sitting', 'on', 'the', '\\n', 'chimney', '.', 'The', 'Dursleys', 'had', 'received', 'a', 'very', 'angry', 'letter', 'from', 'Harry', '’s', '\\n', 'headmistress', 'telling', 'them', 'Harry', 'had', 'been', 'climbing', 'school', 'buildings', '.', 'But', 'all', 'he', '’d', '\\n', 'tried', 'to', 'do', '(', 'as', 'he', 'shouted', 'at', 'Uncle', 'Vernon', 'through', 'the', 'locked', 'door', 'of', 'his', '\\n', 'cupboard', ')', 'was', 'jump', 'behind', 'the', 'big', 'trash', 'cans', 'outside', 'the', 'kitchen', 'doors', '.', 'Harry', '\\n', 'supposed', 'that', 'the', 'wind', 'must', 'have', 'caught', 'him', 'in', 'mid', '-', 'jump', '.', '\\n', 'But', 'today', ',', 'nothing', 'was', 'going', 'to', 'go', 'wrong', '.', 'It', 'was', 'even', 'worth', 'being', 'with', '\\n', 'Dudley', 'and', 'Piers', 'to', 'be', 'spending', 'the', 'day', 'somewhere', 'that', 'was', 'n’t', 'school', ',', 'his', '\\n', 'cupboard', ',', 'or', 'Mrs.', 'Figg', '’s', 'cabbage', '-', 'smelling', 'living', 'room', '.', '\\n', 'While', 'he', 'drove', ',', 'Uncle', 'Vernon', 'complained', 'to', 'Aunt', 'Petunia', '.', 'He', 'liked', 'to', '\\n', 'complain', 'about', 'things', ':', 'people', 'at', 'work', ',', 'Harry', ',', 'the', 'council', ',', 'Harry', ',', 'the', 'bank', ',', 'and', '\\n', 'Harry', 'were', 'just', 'a', 'few', 'of', 'his', 'favorite', 'subjects', '.', 'This', 'morning', ',', 'it', 'was', 'motorcycles', '.', '\\n', '“', '…', 'roaring', 'along', 'like', 'maniacs', ',', 'the', 'young', 'hoodlums', ',', '”', 'he', 'said', ',', 'as', 'a', '\\n', 'motorcycle', 'overtook', 'them', '.', '\\n', '“', 'I', 'had', 'a', 'dream', 'about', 'a', 'motorcycle', ',', '”', 'said', 'Harry', ',', 'remembering', 'suddenly', '.', '\\n', '“', 'It', 'was', 'flying', '.', '”', '\\n', 'Uncle', 'Vernon', 'nearly', 'crashed', 'into', 'the', 'car', 'in', 'front', '.', 'He', 'turned', 'right', 'around', '\\n', 'in', 'his', 'seat', 'and', 'yelled', 'at', 'Harry', ',', 'his', 'face', 'like', 'a', 'gigantic', 'beet', 'with', 'a', 'mustache', ':', '\\n', '“', 'MOTORCYCLES', 'DON’T', 'FLY', '!', '”', '\\n', 'Dudley', 'and', 'Piers', 'sniggered', '.', '\\n', '“', 'I', 'know', 'they', 'do', 'n’t', ',', '”', 'said', 'Harry', '.', '“', 'It', 'was', 'only', 'a', 'dream', '.', '”', '\\n', 'But', 'he', 'wished', 'he', 'had', 'n’t', 'said', 'anything', '.', 'If', 'there', 'was', 'one', 'thing', 'the', '\\n', 'Dursleys', 'hated', 'even', 'more', 'than', 'his', 'asking', 'questions', ',', 'it', 'was', 'his', 'talking', 'about', '\\n', 'anything', 'acting', 'in', 'a', 'way', 'it', 'should', 'n’t', ',', 'no', 'matter', 'if', 'it', 'was', 'in', 'a', 'dream', 'or', 'even', 'a', '\\n', 'cartoon', '—', 'they', 'seemed', 'to', 'think', 'he', 'might', 'get', 'dangerous', 'ideas', '.', '\\n', 'It', 'was', 'a', 'very', 'sunny', 'Saturday', 'and', 'the', 'zoo', 'was', 'crowded', 'with', 'families', '.', 'The', '\\n', 'Dursleys', 'bought', 'Dudley', 'and', 'Piers', 'large', 'chocolate', 'ice', 'creams', 'at', 'the', 'entrance', 'and', '\\n', 'then', ',', 'because', 'the', 'smiling', 'lady', 'in', 'the', 'van', 'had', 'asked', 'Harry', 'what', 'he', 'wanted', 'before', '\\n', 'they', 'could', 'hurry', 'him', 'away', ',', 'they', 'bought', 'him', 'a', 'cheap', 'lemon', 'ice', 'pop', '.', 'It', 'was', 'n’t', '\\n', 'bad', ',', 'either', ',', 'Harry', 'thought', ',', 'licking', 'it', 'as', 'they', 'watched', 'a', 'gorilla', 'scratching', 'its', 'head', '\\n', 'who', 'looked', 'remarkably', 'like', 'Dudley', ',', 'except', 'that', 'it', 'was', 'n’t', 'blond', '.', '\\n', 'Harry', 'had', 'the', 'best', 'morning', 'he', '’d', 'had', 'in', 'a', 'long', 'time', '.', 'He', 'was', 'careful', 'to', '\\n', 'walk', 'a', 'little', 'way', 'apart', 'from', 'the', 'Dursleys', 'so', 'that', 'Dudley', 'and', 'Piers', ',', 'who', 'were', '\\n', 'starting', 'to', 'get', 'bored', 'with', 'the', 'animals', 'by', 'lunchtime', ',', 'would', 'n’t', 'fall', 'back', 'on', 'their', '\\n', 'favorite', 'hobby', 'of', 'hitting', 'him', '.', 'They', 'ate', 'in', 'the', 'zoo', 'restaurant', ',', 'and', 'when', 'Dudley', '\\n', 'had', 'a', 'tantrum', 'because', 'his', 'knickerbocker', 'glory', 'did', 'n’t', 'have', 'enough', 'ice', 'cream', 'on', '\\n', 'top', ',', 'Uncle', 'Vernon', 'bought', 'him', 'another', 'one', 'and', 'Harry', 'was', 'allowed', 'to', 'finish', 'the', '\\n', 'first', '.', '\\n', 'Harry', 'felt', ',', 'afterward', ',', 'that', 'he', 'should', 'have', 'known', 'it', 'was', 'all', 'too', 'good', 'to', '\\n', 'last', '.', '\\n', 'After', 'lunch', 'they', 'went', 'to', 'the', 'reptile', 'house', '.', 'It', 'was', 'cool', 'and', 'dark', 'in', 'there', ',', '\\n', 'with', 'lit', 'windows', 'all', 'along', 'the', 'walls', '.', 'Behind', 'the', 'glass', ',', 'all', 'sorts', 'of', 'lizards', 'and', '\\n', 'snakes', 'were', 'crawling', 'and', 'slithering', 'over', 'bits', 'of', 'wood', 'and', 'stone', '.', 'Dudley', 'and', '\\n', 'Piers', 'wanted', 'to', 'see', 'huge', ',', 'poisonous', 'cobras', 'and', 'thick', ',', 'man', '-', 'crushing', 'pythons', '.', '\\n', 'Dudley', 'quickly', 'found', 'the', 'largest', 'snake', 'in', 'the', 'place', '.', 'It', 'could', 'have', 'wrapped', 'its', '\\n', 'body', 'twice', 'around', 'Uncle', 'Vernon', '’s', 'car', 'and', 'crushed', 'it', 'into', 'a', 'trash', 'can', '—', 'but', 'at', '\\n', 'the', 'moment', 'it', 'did', 'n’t', 'look', 'in', 'the', 'mood', '.', 'In', 'fact', ',', 'it', 'was', 'fast', 'asleep', '.', '\\n', 'Dudley', 'stood', 'with', 'his', 'nose', 'pressed', 'against', 'the', 'glass', ',', 'staring', 'at', 'the', '\\n', 'glistening', 'brown', 'coils', '.', '\\n', '“', 'Make', 'it', 'move', ',', '”', 'he', 'whined', 'at', 'his', 'father', '.', 'Uncle', 'Vernon', 'tapped', 'on', 'the', '\\n', 'glass', ',', 'but', 'the', 'snake', 'did', 'n’t', 'budge', '.', '\\n', '“', 'Do', 'it', 'again', ',', '”', 'Dudley', 'ordered', '.', 'Uncle', 'Vernon', 'rapped', 'the', 'glass', 'smartly', '\\n', 'with', 'his', 'knuckles', ',', 'but', 'the', 'snake', 'just', 'snoozed', 'on', '.', '\\n', '“', 'This', 'is', 'boring', ',', '”', 'Dudley', 'moaned', '.', 'He', 'shuffled', 'away', '.', '\\n', 'Harry', 'moved', 'in', 'front', 'of', 'the', 'tank', 'and', 'looked', 'intently', 'at', 'the', 'snake', '.', 'He', '\\n', 'would', 'n’t', 'have', 'been', 'surprised', 'if', 'it', 'had', 'died', 'of', 'boredom', 'itself', '—', 'no', 'company', '\\n', 'except', 'stupid', 'people', 'drumming', 'their', 'fingers', 'on', 'the', 'glass', 'trying', 'to', 'disturb', 'it', 'all', '\\n', 'day', 'long', '.', 'It', 'was', 'worse', 'than', 'having', 'a', 'cupboard', 'as', 'a', 'bedroom', ',', 'where', 'the', 'only', '\\n', 'visitor', 'was', 'Aunt', 'Petunia', 'hammering', 'on', 'the', 'door', 'to', 'wake', 'you', 'up', ';', 'at', 'least', 'he', 'got', '\\n', 'to', 'visit', 'the', 'rest', 'of', 'the', 'house', '.', '\\n', 'The', 'snake', 'suddenly', 'opened', 'its', 'beady', 'eyes', '.', 'Slowly', ',', 'very', 'slowly', ',', 'it', 'raised', '\\n', 'its', 'head', 'until', 'its', 'eyes', 'were', 'on', 'a', 'level', 'with', 'Harry', '’s', '.', '\\n', 'It', 'winked', '.', '\\n', 'Harry', 'stared', '.', 'Then', 'he', 'looked', 'quickly', 'around', 'to', 'see', 'if', 'anyone', 'was', '\\n', 'watching', '.', 'They', 'were', 'n’t', '.', 'He', 'looked', 'back', 'at', 'the', 'snake', 'and', 'winked', ',', 'too', '.', '\\n', 'The', 'snake', 'jerked', 'its', 'head', 'toward', 'Uncle', 'Vernon', 'and', 'Dudley', ',', 'then', 'raised', '\\n', 'its', 'eyes', 'to', 'the', 'ceiling', '.', 'It', 'gave', 'Harry', 'a', 'look', 'that', 'said', 'quite', 'plainly', ':', '\\n', '“', 'I', 'get', 'that', 'all', 'the', 'time', '.', '”', '\\n', '“', 'I', 'know', ',', '”', 'Harry', 'murmured', 'through', 'the', 'glass', ',', 'though', 'he', 'was', 'n’t', 'sure', 'the', '\\n', 'snake', 'could', 'hear', 'him', '.', '“', 'It', 'must', 'be', 'really', 'annoying', '.', '”', '\\n', 'The', 'snake', 'nodded', 'vigorously', '.', '\\n', '“', 'Where', 'do', 'you', 'come', 'from', ',', 'anyway', '?', '”', 'Harry', 'asked', '.', '\\n', 'The', 'snake', 'jabbed', 'its', 'tail', 'at', 'a', 'little', 'sign', 'next', 'to', 'the', 'glass', '.', 'Harry', 'peered', 'at', '\\n', 'it', '.', '\\n', 'Boa', 'Constrictor', ',', 'Brazil', '.', '\\n', '“', 'Was', 'it', 'nice', 'there', '?', '”', '\\n', 'The', 'boa', 'constrictor', 'jabbed', 'its', 'tail', 'at', 'the', 'sign', 'again', 'and', 'Harry', 'read', 'on', ':', '\\n', 'This', 'specimen', 'was', 'bred', 'in', 'the', 'zoo', '.', '“', 'Oh', ',', 'I', 'see', '—', 'so', 'you', '’ve', 'never', 'been', 'to', '\\n', 'Brazil', '?', '”', '\\n', 'As', 'the', 'snake', 'shook', 'its', 'head', ',', 'a', 'deafening', 'shout', 'behind', 'Harry', 'made', 'both', '\\n', 'of', 'them', 'jump', '.', '“', 'DUDLEY', '!', 'MR', '.', 'DURSLEY', '!', 'COME', 'AND', 'LOOK', 'AT', 'THIS', '\\n', 'SNAKE', '!', 'YOU', 'WON’T', 'BELIEVE', 'WHAT', 'IT', '’S', 'DOING', '!', '”', '\\n', 'Dudley', 'came', 'waddling', 'toward', 'them', 'as', 'fast', 'as', 'he', 'could', '.', '\\n', '“', 'Out', 'of', 'the', 'way', ',', 'you', ',', '”', 'he', 'said', ',', 'punching', 'Harry', 'in', 'the', 'ribs', '.', 'Caught', 'by', '\\n', 'surprise', ',', 'Harry', 'fell', 'hard', 'on', 'the', 'concrete', 'floor', '.', 'What', 'came', 'next', 'happened', 'so', 'fast', '\\n', 'no', 'one', 'saw', 'how', 'it', 'happened', '—', 'one', 'second', ',', 'Piers', 'and', 'Dudley', 'were', 'leaning', 'right', '\\n', 'up', 'close', 'to', 'the', 'glass', ',', 'the', 'next', ',', 'they', 'had', 'leapt', 'back', 'with', 'howls', 'of', 'horror', '.', '\\n', 'Harry', 'sat', 'up', 'and', 'gasped', ';', 'the', 'glass', 'front', 'of', 'the', 'boa', 'constrictor', '’s', 'tank', 'had', '\\n', 'vanished', '.', 'The', 'great', 'snake', 'was', 'uncoiling', 'itself', 'rapidly', ',', 'slithering', 'out', 'onto', 'the', '\\n', 'floor', '.', 'People', 'throughout', 'the', 'reptile', 'house', 'screamed', 'and', 'started', 'running', 'for', 'the', '\\n', 'exits', '.', '\\n', 'As', 'the', 'snake', 'slid', 'swiftly', 'past', 'him', ',', 'Harry', 'could', 'have', 'sworn', 'a', 'low', ',', 'hissing', '\\n', 'voice', 'said', ',', '“', 'Brazil', ',', 'here', 'I', 'come', '.', '…', 'Thanksss', ',', 'amigo', '.', '”', '\\n', 'The', 'keeper', 'of', 'the', 'reptile', 'house', 'was', 'in', 'shock', '.', '\\n', '“', 'But', 'the', 'glass', ',', '”', 'he', 'kept', 'saying', ',', '“', 'where', 'did', 'the', 'glass', 'go', '?', '”', '\\n', 'The', 'zoo', 'director', 'himself', 'made', 'Aunt', 'Petunia', 'a', 'cup', 'of', 'strong', ',', 'sweet', 'tea', '\\n', 'while', 'he', 'apologized', 'over', 'and', 'over', 'again', '.', 'Piers', 'and', 'Dudley', 'could', 'only', 'gibber', '.', 'As', '\\n', 'far', 'as', 'Harry', 'had', 'seen', ',', 'the', 'snake', 'had', 'n’t', 'done', 'anything', 'except', 'snap', 'playfully', 'at', '\\n', 'their', 'heels', 'as', 'it', 'passed', ',', 'but', 'by', 'the', 'time', 'they', 'were', 'all', 'back', 'in', 'Uncle', 'Vernon', '’s', 'car', ',', '\\n', 'Dudley', 'was', 'telling', 'them', 'how', 'it', 'had', 'nearly', 'bitten', 'off', 'his', 'leg', ',', 'while', 'Piers', 'was', '\\n', 'swearing', 'it', 'had', 'tried', 'to', 'squeeze', 'him', 'to', 'death', '.', 'But', 'worst', 'of', 'all', ',', 'for', 'Harry', 'at', 'least', ',', '\\n', 'was', 'Piers', 'calming', 'down', 'enough', 'to', 'say', ',', '“', 'Harry', 'was', 'talking', 'to', 'it', ',', 'were', 'n’t', 'you', ',', '\\n', 'Harry', '?', '”', '\\n', 'Uncle', 'Vernon', 'waited', 'until', 'Piers', 'was', 'safely', 'out', 'of', 'the', 'house', 'before', '\\n', 'starting', 'on', 'Harry', '.', 'He', 'was', 'so', 'angry', 'he', 'could', 'hardly', 'speak', '.', 'He', 'managed', 'to', 'say', ',', '\\n', '“', 'Go', '—', 'cupboard', '—', 'stay', '—', 'no', 'meals', ',', '”', 'before', 'he', 'collapsed', 'into', 'a', 'chair', ',', 'and', '\\n', 'Aunt', 'Petunia', 'had', 'to', 'run', 'and', 'get', 'him', 'a', 'large', 'brandy', '.', '\\n', 'Harry', 'lay', 'in', 'his', 'dark', 'cupboard', 'much', 'later', ',', 'wishing', 'he', 'had', 'a', 'watch', '.', 'He', 'did', 'n’t', '\\n', 'know', 'what', 'time', 'it', 'was', 'and', 'he', 'could', 'n’t', 'be', 'sure', 'the', 'Dursleys', 'were', 'asleep', 'yet', '.', '\\n', 'Until', 'they', 'were', ',', 'he', 'could', 'n’t', 'risk', 'sneaking', 'to', 'the', 'kitchen', 'for', 'some', 'food', '.', '\\n', 'He', '’d', 'lived', 'with', 'the', 'Dursleys', 'almost', 'ten', 'years', ',', 'ten', 'miserable', 'years', ',', 'as', '\\n', 'long', 'as', 'he', 'could', 'remember', ',', 'ever', 'since', 'he', '’d', 'been', 'a', 'baby', 'and', 'his', 'parents', 'had', 'died', '\\n', 'in', 'that', 'car', 'crash', '.', 'He', 'could', 'n’t', 'remember', 'being', 'in', 'the', 'car', 'when', 'his', 'parents', 'had', '\\n', 'died', '.', 'Sometimes', ',', 'when', 'he', 'strained', 'his', 'memory', 'during', 'long', 'hours', 'in', 'his', '\\n', 'cupboard', ',', 'he', 'came', 'up', 'with', 'a', 'strange', 'vision', ':', 'a', 'blinding', 'flash', 'of', 'green', 'light', 'and', 'a', '\\n', 'burning', 'pain', 'on', 'his', 'forehead', '.', 'This', ',', 'he', 'supposed', ',', 'was', 'the', 'crash', ',', 'though', 'he', '\\n', 'could', 'n’t', 'imagine', 'where', 'all', 'the', 'green', 'light', 'came', 'from', '.', 'He', 'could', 'n’t', 'remember', 'his', '\\n', 'parents', 'at', 'all', '.', 'His', 'aunt', 'and', 'uncle', 'never', 'spoke', 'about', 'them', ',', 'and', 'of', 'course', 'he', 'was', '\\n', 'forbidden', 'to', 'ask', 'questions', '.', 'There', 'were', 'no', 'photographs', 'of', 'them', 'in', 'the', 'house', '.', '\\n', 'When', 'he', 'had', 'been', 'younger', ',', 'Harry', 'had', 'dreamed', 'and', 'dreamed', 'of', 'some', '\\n', 'unknown', 'relation', 'coming', 'to', 'take', 'him', 'away', ',', 'but', 'it', 'had', 'never', 'happened', ';', 'the', '\\n', 'Dursleys', 'were', 'his', 'only', 'family', '.', 'Yet', 'sometimes', 'he', 'thought', '(', 'or', 'maybe', 'hoped', ')', 'that', '\\n', 'strangers', 'in', 'the', 'street', 'seemed', 'to', 'know', 'him', '.', 'Very', 'strange', 'strangers', 'they', 'were', ',', '\\n', 'too', '.', 'A', 'tiny', 'man', 'in', 'a', 'violet', 'top', 'hat', 'had', 'bowed', 'to', 'him', 'once', 'while', 'out', 'shopping', '\\n', 'with', 'Aunt', 'Petunia', 'and', 'Dudley', '.', 'After', 'asking', 'Harry', 'furiously', 'if', 'he', 'knew', 'the', 'man', ',', '\\n', 'Aunt', 'Petunia', 'had', 'rushed', 'them', 'out', 'of', 'the', 'shop', 'without', 'buying', 'anything', '.', 'A', 'wild-', '\\n', 'looking', 'old', 'woman', 'dressed', 'all', 'in', 'green', 'had', 'waved', 'merrily', 'at', 'him', 'once', 'on', 'a', 'bus', '.', '\\n', 'A', 'bald', 'man', 'in', 'a', 'very', 'long', 'purple', 'coat', 'had', 'actually', 'shaken', 'his', 'hand', 'in', 'the', 'street', '\\n', 'the', 'other', 'day', 'and', 'then', 'walked', 'away', 'without', 'a', 'word', '.', 'The', 'weirdest', 'thing', 'about', 'all', '\\n', 'these', 'people', 'was', 'the', 'way', 'they', 'seemed', 'to', 'vanish', 'the', 'second', 'Harry', 'tried', 'to', 'get', 'a', '\\n', 'closer', 'look', '.', '\\n', 'At', 'school', ',', 'Harry', 'had', 'no', 'one', '.', 'Everybody', 'knew', 'that', 'Dudley', '’s', 'gang', 'hated', '\\n', 'that', 'odd', 'Harry', 'Potter', 'in', 'his', 'baggy', 'old', 'clothes', 'and', 'broken', 'glasses', ',', 'and', 'nobody', '\\n', 'liked', 'to', 'disagree', 'with', 'Dudley', '’s', 'gang', '.']\n"
     ]
    }
   ],
   "source": [
    "import pathlib\n",
    "file_name = \"example.txt\"\n",
    "introduction_doc = nlp(pathlib.Path(file_name).read_text(encoding=\"utf-8\"))\n",
    "print([token.text for token in introduction_doc])"
   ]
  },
  {
   "cell_type": "markdown",
   "metadata": {},
   "source": [
    "### Sentence Detection"
   ]
  },
  {
   "cell_type": "code",
   "execution_count": 8,
   "metadata": {},
   "outputs": [],
   "source": [
    "about_text = (\n",
    "...    \"Gus Proto is a python developer currently\"\n",
    "...    \" working for a London-based Fintech\"\n",
    "...    \" company. He is interested in learning\"\n",
    "...    \" Natural Language Processing.\"\n",
    "... )"
   ]
  },
  {
   "cell_type": "code",
   "execution_count": 10,
   "metadata": {},
   "outputs": [
    {
     "data": {
      "text/plain": [
       "2"
      ]
     },
     "execution_count": 10,
     "metadata": {},
     "output_type": "execute_result"
    }
   ],
   "source": [
    "about_doc = nlp(about_text)\n",
    "sentences = list(about_doc.sents)\n",
    "len(sentences)"
   ]
  },
  {
   "cell_type": "code",
   "execution_count": 11,
   "metadata": {},
   "outputs": [
    {
     "name": "stdout",
     "output_type": "stream",
     "text": [
      "Gus Proto is a python...\n",
      "He is interested in learning...\n"
     ]
    }
   ],
   "source": [
    "for sentence in sentences:\n",
    "    print(f\"{sentence[:5]}...\")"
   ]
  },
  {
   "cell_type": "code",
   "execution_count": 12,
   "metadata": {},
   "outputs": [],
   "source": [
    "ellipsis_text = (\n",
    "    \"Gus, can you, ... never mind, I forgot\"\n",
    "    \" what I was saying. So, do you think\"\n",
    "    \" we should ...\"\n",
    ")"
   ]
  },
  {
   "cell_type": "code",
   "execution_count": null,
   "metadata": {},
   "outputs": [],
   "source": [
    "from spacy.language import Language\n",
    "@Language.component(\"set_custom_boundaries\")\n",
    "def set_custom_boundaries(doc):\n",
    "    for token "
   ]
  }
 ],
 "metadata": {
  "kernelspec": {
   "display_name": "Python 3",
   "language": "python",
   "name": "python3"
  },
  "language_info": {
   "codemirror_mode": {
    "name": "ipython",
    "version": 3
   },
   "file_extension": ".py",
   "mimetype": "text/x-python",
   "name": "python",
   "nbconvert_exporter": "python",
   "pygments_lexer": "ipython3",
   "version": "3.12.1"
  }
 },
 "nbformat": 4,
 "nbformat_minor": 2
}
