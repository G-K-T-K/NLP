{
 "cells": [
  {
   "cell_type": "code",
   "execution_count": 1,
   "metadata": {},
   "outputs": [
    {
     "name": "stderr",
     "output_type": "stream",
     "text": [
      "2024-12-20 09:47:03.732093: I external/local_xla/xla/tsl/cuda/cudart_stub.cc:32] Could not find cuda drivers on your machine, GPU will not be used.\n",
      "2024-12-20 09:47:03.735818: I external/local_xla/xla/tsl/cuda/cudart_stub.cc:32] Could not find cuda drivers on your machine, GPU will not be used.\n",
      "2024-12-20 09:47:03.744979: E external/local_xla/xla/stream_executor/cuda/cuda_fft.cc:477] Unable to register cuFFT factory: Attempting to register factory for plugin cuFFT when one has already been registered\n",
      "WARNING: All log messages before absl::InitializeLog() is called are written to STDERR\n",
      "E0000 00:00:1734688023.759392   17280 cuda_dnn.cc:8310] Unable to register cuDNN factory: Attempting to register factory for plugin cuDNN when one has already been registered\n",
      "E0000 00:00:1734688023.763727   17280 cuda_blas.cc:1418] Unable to register cuBLAS factory: Attempting to register factory for plugin cuBLAS when one has already been registered\n",
      "2024-12-20 09:47:03.787599: I tensorflow/core/platform/cpu_feature_guard.cc:210] This TensorFlow binary is optimized to use available CPU instructions in performance-critical operations.\n",
      "To enable the following instructions: AVX2 FMA, in other operations, rebuild TensorFlow with the appropriate compiler flags.\n"
     ]
    }
   ],
   "source": [
    "from nltk.corpus import reuters\n",
    "from nltk import bigrams, trigrams\n",
    "from collections import Counter, defaultdict\n",
    "import random\n",
    "import numpy as np\n",
    "import pandas as pd\n",
    "from keras.utils import to_categorical\n",
    "from keras.preprocessing.sequence import pad_sequences\n",
    "from keras.layers import LSTM, Dense, GRU, Embedding\n",
    "from keras.models import Sequential\n",
    "from keras.callbacks import EarlyStopping, ModelCheckpoint\n",
    "import re"
   ]
  },
  {
   "cell_type": "code",
   "execution_count": 2,
   "metadata": {},
   "outputs": [
    {
     "name": "stderr",
     "output_type": "stream",
     "text": [
      "[nltk_data] Downloading package reuters to\n",
      "[nltk_data]     /home/codespace/nltk_data...\n",
      "[nltk_data] Downloading package punkt_tab to\n",
      "[nltk_data]     /home/codespace/nltk_data...\n",
      "[nltk_data]   Package punkt_tab is already up-to-date!\n"
     ]
    },
    {
     "data": {
      "text/plain": [
       "True"
      ]
     },
     "execution_count": 2,
     "metadata": {},
     "output_type": "execute_result"
    }
   ],
   "source": [
    "import nltk\n",
    "nltk.download('reuters')\n",
    "nltk.download('punkt_tab')"
   ]
  },
  {
   "cell_type": "code",
   "execution_count": 3,
   "metadata": {},
   "outputs": [
    {
     "name": "stdout",
     "output_type": "stream",
     "text": [
      "Bigrams [('This', 'is')]\n",
      "bigram count: {('This', 'is'): 1}\n",
      "únigram: {'This': 1}\n",
      "('This', 'is')\n",
      "{('This', 'is'): 1.0}\n",
      "bigram probability: {('This', 'is'): 1.0}\n"
     ]
    }
   ],
   "source": [
    "def readData():\n",
    "  data = ['This is a black dog', 'Pradeep\"s cat', 'I love my cat', 'This is my name', 'Tharun loves his cat']\n",
    "  dat = []\n",
    "  for i in range(len(data)):\n",
    "    for word in data[i].split():\n",
    "      dat.append(word)\n",
    "  return dat\n",
    "\n",
    "def createBigram(data):\n",
    "  listOfBigrams = []\n",
    "  bigramCounts = {}\n",
    "  unigramCounts = {}\n",
    "  for i in range(len(data)-1):\n",
    "    if i < len(data)-1 and data[i+1].islower():\n",
    "        listOfBigrams.append((data[i], data[i + 1]))\n",
    "        if (data[i], data[i+1]) in bigramCounts:\n",
    "          bigramCounts[(data[i], data[i + 1])] += 1\n",
    "        else:\n",
    "          bigramCounts [(data[i], data[i + 1])] = 1\n",
    "    if data[i] in unigramCounts:\n",
    "      unigramCounts [data[i]] += 1\n",
    "    else: unigramCounts [data[i]] = 1\n",
    "    return listOfBigrams, unigramCounts, bigramCounts\n",
    "\n",
    "def calcBigramProb(listOfBigrams, unigramCounts, bigramCounts):\n",
    "  listOfProb = {}\n",
    "  for bigram in listOfBigrams:\n",
    "    word1 = bigram[0]\n",
    "    word2 = bigram[1]\n",
    "    print(bigram)\n",
    "    listOfProb[bigram] = (bigramCounts.get(bigram))/(unigramCounts.get(word1))\n",
    "    print(listOfProb)\n",
    "  return listOfProb\n",
    "\n",
    "data = readData()\n",
    "listOfBigrams, unigramCounts, bigramCounts = createBigram(data)\n",
    "print('Bigrams',listOfBigrams)\n",
    "print('bigram count:',bigramCounts)\n",
    "print('únigram:',unigramCounts)\n",
    "bigramProb = calcBigramProb(listOfBigrams, unigramCounts, bigramCounts)\n",
    "print('bigram probability:',bigramProb)"
   ]
  },
  {
   "cell_type": "code",
   "execution_count": 4,
   "metadata": {},
   "outputs": [
    {
     "data": {
      "text/plain": [
       "{'public': 0.05555555555555555,\n",
       " 'European': 0.05555555555555555,\n",
       " 'Bank': 0.05555555555555555,\n",
       " 'price': 0.1111111111111111,\n",
       " 'emirate': 0.05555555555555555,\n",
       " 'overseas': 0.05555555555555555,\n",
       " 'newspaper': 0.05555555555555555,\n",
       " 'company': 0.16666666666666666,\n",
       " 'Turkish': 0.05555555555555555,\n",
       " 'increase': 0.05555555555555555,\n",
       " 'options': 0.05555555555555555,\n",
       " 'Higher': 0.05555555555555555,\n",
       " 'pound': 0.05555555555555555,\n",
       " 'Italian': 0.05555555555555555,\n",
       " 'time': 0.05555555555555555}"
      ]
     },
     "execution_count": 4,
     "metadata": {},
     "output_type": "execute_result"
    }
   ],
   "source": [
    "model = defaultdict(lambda: defaultdict(lambda: 0))\n",
    "\n",
    "for sentence in reuters.sents():\n",
    "  for w1, w2, w3 in trigrams(sentence, pad_right=True, pad_left=True):\n",
    "    model[(w1, w2)][w3] += 1\n",
    "\n",
    "for w1_w2 in model:\n",
    "  total_count = float(sum (model [w1_w2].values()))\n",
    "  for w3 in model [w1_w2]:\n",
    "    model [w1_w2] [w3] /= total_count\n",
    "\n",
    "dict(model[\"today\",\"the\"])"
   ]
  },
  {
   "cell_type": "code",
   "execution_count": 5,
   "metadata": {},
   "outputs": [
    {
     "name": "stdout",
     "output_type": "stream",
     "text": [
      "today the options available .\n"
     ]
    }
   ],
   "source": [
    "text = [\"today\",\"the\"]\n",
    "sentence_finished = False\n",
    "while not sentence_finished:\n",
    "  r = random.random()\n",
    "  accumulator = .0\n",
    "  for word in model[tuple(text[-2:])].keys():\n",
    "    accumulator += model[tuple(text[-2:])][word]\n",
    "    if accumulator >= r:\n",
    "      text.append(word)\n",
    "      break\n",
    "  if text[-2:] == [None, None]:\n",
    "    sentence_finished = True\n",
    "print(\" \".join([t for t in text if t]))"
   ]
  },
  {
   "cell_type": "code",
   "execution_count": 6,
   "metadata": {},
   "outputs": [
    {
     "name": "stdout",
     "output_type": "stream",
     "text": [
      "Total Sequences: 1277\n"
     ]
    }
   ],
   "source": [
    "data_text = \"\"\"We all want the low-hanging fruit,\n",
    "but let’s be honest – the low-hanging fruit is rotten, bruised, and covered with the grubby fingerprints of all the other spoiled brats pawing at it. There’s a time for easy wins, but easy only gets you so far. Sadly, I see too many SEOs putting days or weeks of effort into crafting the perfect low-value scheme, when that same time could’ve easily gone into content that has real staying power and drives sales. I’m obsessed with “Big Content” lately – resources that go beyond our narrow bins of blog posts, videos, and infographics. I’m going to show you how that obsession is paying off, and why building real content is easier than you think. If you want easy, then stop reading (this article is pretty long, and that sandwich won’t eat itself). The #1 attribute of big content is that it takes time and effort – it doesn’t have to be expensive, but you have to invest something into it (and, as they say, time is money). The problem with easy is that what’s easy for you is easy for everyone else, too. If anyone can do it, a tactic quickly loses impact. You can’t build a lasting competitive advantage with easy. Here’s what most people don’t get, though – once you get good at big, big gets easier. You learn how to be efficient, tap outside resources, and manage risks. The more you create big content, the more you see opportunities that weren’t there before. You have to put in the effort and make the mistakes – if you’re stuck on easy, big will always be out of your reach.\"\"\"\n",
    "\n",
    "def text_cleaner(text):\n",
    "  newString = text.lower()\n",
    "  newString = re.sub(r\"'s\\b\",\" \", newString)\n",
    "  newString = re.sub(\"[^a-zA-Z]\", \" \", newString)\n",
    "  long_words=[]\n",
    "  for i in newString.split():\n",
    "    if len(i)>=3:\n",
    "      long_words.append(i)\n",
    "  return (\" \".join(long_words)).strip()\n",
    "\n",
    "data_new = text_cleaner(data_text)\n",
    "\n",
    "def create_seq(text):\n",
    "  length = 30\n",
    "  sequences = list()\n",
    "  for i in range(length, len(text)):\n",
    "    seq = text[i-length:1+1]\n",
    "    sequences.append(seq)\n",
    "  print('Total Sequences: %d' % len(sequences))\n",
    "  return sequences #create sequences\n",
    "\n",
    "sequences = create_seq(data_new)"
   ]
  },
  {
   "cell_type": "code",
   "execution_count": null,
   "metadata": {},
   "outputs": [],
   "source": []
  }
 ],
 "metadata": {
  "kernelspec": {
   "display_name": "Python 3",
   "language": "python",
   "name": "python3"
  },
  "language_info": {
   "codemirror_mode": {
    "name": "ipython",
    "version": 3
   },
   "file_extension": ".py",
   "mimetype": "text/x-python",
   "name": "python",
   "nbconvert_exporter": "python",
   "pygments_lexer": "ipython3",
   "version": "3.12.1"
  }
 },
 "nbformat": 4,
 "nbformat_minor": 2
}
